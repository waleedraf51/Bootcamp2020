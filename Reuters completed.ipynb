{
  "nbformat": 4,
  "nbformat_minor": 0,
  "metadata": {
    "colab": {
      "name": "Reuters.ipynb",
      "provenance": [],
      "collapsed_sections": [],
      "authorship_tag": "ABX9TyNIaDX5TokZjiseapzahGrv",
      "include_colab_link": true
    },
    "kernelspec": {
      "name": "python3",
      "display_name": "Python 3"
    },
    "language_info": {
      "name": "python"
    }
  },
  "cells": [
    {
      "cell_type": "markdown",
      "metadata": {
        "id": "view-in-github",
        "colab_type": "text"
      },
      "source": [
        "<a href=\"https://colab.research.google.com/github/waleedraf51/Bootcamp2020/blob/master/Reuters%20completed.ipynb\" target=\"_parent\"><img src=\"https://colab.research.google.com/assets/colab-badge.svg\" alt=\"Open In Colab\"/></a>"
      ]
    },
    {
      "cell_type": "code",
      "metadata": {
        "colab": {
          "base_uri": "https://localhost:8080/"
        },
        "id": "-jQ4pN-Xq12o",
        "outputId": "b7ae7aeb-f3d2-459e-aa3f-fafe337f7c67"
      },
      "source": [
        "import tensorflow as tf\n",
        "print(tf.__version__)"
      ],
      "execution_count": 2,
      "outputs": [
        {
          "output_type": "stream",
          "text": [
            "2.6.0\n"
          ],
          "name": "stdout"
        }
      ]
    },
    {
      "cell_type": "code",
      "metadata": {
        "id": "Pad0Bhnqq2aj"
      },
      "source": [
        "import tensorflow as tf\n",
        "from tensorflow.keras.datasets import reuters\n",
        "from tensorflow.keras import models,layers,optimizers,utils\n",
        "import numpy as np\n",
        "import matplotlib.pyplot as plt\n"
      ],
      "execution_count": 3,
      "outputs": []
    },
    {
      "cell_type": "code",
      "metadata": {
        "colab": {
          "base_uri": "https://localhost:8080/"
        },
        "id": "uLwNN1btq2c-",
        "outputId": "621d5df9-4f5f-4248-82b7-62b58f9a9443"
      },
      "source": [
        "(train_data,train_labels),(test_data,test_labels)=reuters.load_data(num_words=10000)"
      ],
      "execution_count": 4,
      "outputs": [
        {
          "output_type": "stream",
          "text": [
            "Downloading data from https://storage.googleapis.com/tensorflow/tf-keras-datasets/reuters.npz\n",
            "2113536/2110848 [==============================] - 0s 0us/step\n",
            "2121728/2110848 [==============================] - 0s 0us/step\n"
          ],
          "name": "stdout"
        }
      ]
    },
    {
      "cell_type": "code",
      "metadata": {
        "colab": {
          "base_uri": "https://localhost:8080/"
        },
        "id": "Bkq5Y3AOq2fH",
        "outputId": "5ba86377-d235-42f1-f6d0-05014ad0cb9e"
      },
      "source": [
        "print(len(train_data))\n",
        "print(len(test_data))"
      ],
      "execution_count": 5,
      "outputs": [
        {
          "output_type": "stream",
          "text": [
            "8982\n",
            "2246\n"
          ],
          "name": "stdout"
        }
      ]
    },
    {
      "cell_type": "code",
      "metadata": {
        "colab": {
          "base_uri": "https://localhost:8080/"
        },
        "id": "QVsqscgXs--Z",
        "outputId": "a9a6b462-19be-43a2-bab3-0baf8033e520"
      },
      "source": [
        "train_data[0]"
      ],
      "execution_count": 6,
      "outputs": [
        {
          "output_type": "execute_result",
          "data": {
            "text/plain": [
              "[1,\n",
              " 2,\n",
              " 2,\n",
              " 8,\n",
              " 43,\n",
              " 10,\n",
              " 447,\n",
              " 5,\n",
              " 25,\n",
              " 207,\n",
              " 270,\n",
              " 5,\n",
              " 3095,\n",
              " 111,\n",
              " 16,\n",
              " 369,\n",
              " 186,\n",
              " 90,\n",
              " 67,\n",
              " 7,\n",
              " 89,\n",
              " 5,\n",
              " 19,\n",
              " 102,\n",
              " 6,\n",
              " 19,\n",
              " 124,\n",
              " 15,\n",
              " 90,\n",
              " 67,\n",
              " 84,\n",
              " 22,\n",
              " 482,\n",
              " 26,\n",
              " 7,\n",
              " 48,\n",
              " 4,\n",
              " 49,\n",
              " 8,\n",
              " 864,\n",
              " 39,\n",
              " 209,\n",
              " 154,\n",
              " 6,\n",
              " 151,\n",
              " 6,\n",
              " 83,\n",
              " 11,\n",
              " 15,\n",
              " 22,\n",
              " 155,\n",
              " 11,\n",
              " 15,\n",
              " 7,\n",
              " 48,\n",
              " 9,\n",
              " 4579,\n",
              " 1005,\n",
              " 504,\n",
              " 6,\n",
              " 258,\n",
              " 6,\n",
              " 272,\n",
              " 11,\n",
              " 15,\n",
              " 22,\n",
              " 134,\n",
              " 44,\n",
              " 11,\n",
              " 15,\n",
              " 16,\n",
              " 8,\n",
              " 197,\n",
              " 1245,\n",
              " 90,\n",
              " 67,\n",
              " 52,\n",
              " 29,\n",
              " 209,\n",
              " 30,\n",
              " 32,\n",
              " 132,\n",
              " 6,\n",
              " 109,\n",
              " 15,\n",
              " 17,\n",
              " 12]"
            ]
          },
          "metadata": {},
          "execution_count": 6
        }
      ]
    },
    {
      "cell_type": "code",
      "metadata": {
        "id": "ud0nasotuU9X"
      },
      "source": [
        ""
      ],
      "execution_count": null,
      "outputs": []
    },
    {
      "cell_type": "code",
      "metadata": {
        "id": "uBX4Htb1tt5o"
      },
      "source": [
        "def vectorize_sequences(sequences, dimension=10000):\n",
        "  results=np.zeros((len(sequences),dimension))\n",
        "  for i, sequence in enumerate(sequences):\n",
        "    results [i, sequence]=1.\n",
        "    return results"
      ],
      "execution_count": 7,
      "outputs": []
    },
    {
      "cell_type": "code",
      "metadata": {
        "id": "tLxjOBUzq2ly"
      },
      "source": [
        "X_train=vectorize_sequences(train_data)\n",
        "X_test=vectorize_sequences(test_data)"
      ],
      "execution_count": 8,
      "outputs": []
    },
    {
      "cell_type": "code",
      "metadata": {
        "id": "gm8Ohb7Vq2of"
      },
      "source": [
        "def to_one_hot(labels, dimension=46):\n",
        "  results=np.zeros((len(labels),dimension))\n",
        "  for i, labels in enumerate(labels):\n",
        "    results [i, labels]=1.\n",
        "    return results"
      ],
      "execution_count": 9,
      "outputs": []
    },
    {
      "cell_type": "code",
      "metadata": {
        "id": "VQjd47MRw3ja"
      },
      "source": [
        "one_hot_train_labels=to_one_hot(train_labels)\n",
        "one_hot_test_labels=to_one_hot(test_labels)"
      ],
      "execution_count": 10,
      "outputs": []
    },
    {
      "cell_type": "code",
      "metadata": {
        "id": "nl2ggP3cw3lz"
      },
      "source": [
        "one_hot_train_labels=utils.to_categorical(train_labels)\n",
        "one_hot_test_labels=utils.to_categorical(test_labels)"
      ],
      "execution_count": 11,
      "outputs": []
    },
    {
      "cell_type": "code",
      "metadata": {
        "id": "kjTrTGb81UK4"
      },
      "source": [
        "X_val=X_train[:1000]\n",
        "partial_X_train=X_train[1000:]\n",
        "Y_val=one_hot_train_labels[:1000]\n",
        "partial_Y_train=one_hot_train_labels[1000:]"
      ],
      "execution_count": 12,
      "outputs": []
    },
    {
      "cell_type": "code",
      "metadata": {
        "id": "gdRa1E-W1UNa"
      },
      "source": [
        "model=models.Sequential()\n",
        "model.add(layers.Dense(64,activation='relu',input_shape=(10000,)))\n",
        "model.add(layers.Dense(64,activation='relu'))\n",
        "model.add(layers.Dense(46,activation='softmax'))"
      ],
      "execution_count": 13,
      "outputs": []
    },
    {
      "cell_type": "code",
      "metadata": {
        "id": "tWr1M7co1UP0",
        "colab": {
          "base_uri": "https://localhost:8080/"
        },
        "outputId": "9fc2c519-b1eb-41ec-97c5-0dab6792bcc0"
      },
      "source": [
        "model.compile(optimizer='rmsprop', loss='categorical_crossentropy',metrics=['accuracy'])\n",
        "history= model.fit(partial_X_train, partial_Y_train, epochs=20, batch_size=512,validation_data=(X_val,Y_val))\n"
      ],
      "execution_count": 24,
      "outputs": [
        {
          "output_type": "stream",
          "text": [
            "Epoch 1/20\n",
            "16/16 [==============================] - 1s 57ms/step - loss: 3.4265 - accuracy: 0.3514 - val_loss: 3.4154 - val_accuracy: 0.3530\n",
            "Epoch 2/20\n",
            "16/16 [==============================] - 1s 46ms/step - loss: 3.4064 - accuracy: 0.3514 - val_loss: 3.3977 - val_accuracy: 0.3530\n",
            "Epoch 3/20\n",
            "16/16 [==============================] - 1s 48ms/step - loss: 3.3891 - accuracy: 0.3514 - val_loss: 3.3809 - val_accuracy: 0.3530\n",
            "Epoch 4/20\n",
            "16/16 [==============================] - 1s 47ms/step - loss: 3.3724 - accuracy: 0.3514 - val_loss: 3.3642 - val_accuracy: 0.3540\n",
            "Epoch 5/20\n",
            "16/16 [==============================] - 1s 47ms/step - loss: 3.3559 - accuracy: 0.3514 - val_loss: 3.3478 - val_accuracy: 0.3540\n",
            "Epoch 6/20\n",
            "16/16 [==============================] - 1s 46ms/step - loss: 3.3395 - accuracy: 0.3514 - val_loss: 3.3315 - val_accuracy: 0.3540\n",
            "Epoch 7/20\n",
            "16/16 [==============================] - 1s 47ms/step - loss: 3.3233 - accuracy: 0.3514 - val_loss: 3.3153 - val_accuracy: 0.3540\n",
            "Epoch 8/20\n",
            "16/16 [==============================] - 1s 47ms/step - loss: 3.3072 - accuracy: 0.3514 - val_loss: 3.2993 - val_accuracy: 0.3540\n",
            "Epoch 9/20\n",
            "16/16 [==============================] - 1s 48ms/step - loss: 3.2913 - accuracy: 0.3514 - val_loss: 3.2834 - val_accuracy: 0.3540\n",
            "Epoch 10/20\n",
            "16/16 [==============================] - 1s 46ms/step - loss: 3.2756 - accuracy: 0.3514 - val_loss: 3.2677 - val_accuracy: 0.3540\n",
            "Epoch 11/20\n",
            "16/16 [==============================] - 1s 46ms/step - loss: 3.2600 - accuracy: 0.3514 - val_loss: 3.2522 - val_accuracy: 0.3540\n",
            "Epoch 12/20\n",
            "16/16 [==============================] - 1s 48ms/step - loss: 3.2447 - accuracy: 0.3514 - val_loss: 3.2369 - val_accuracy: 0.3540\n",
            "Epoch 13/20\n",
            "16/16 [==============================] - 1s 47ms/step - loss: 3.2294 - accuracy: 0.3514 - val_loss: 3.2216 - val_accuracy: 0.3540\n",
            "Epoch 14/20\n",
            "16/16 [==============================] - 1s 47ms/step - loss: 3.2143 - accuracy: 0.3514 - val_loss: 3.2066 - val_accuracy: 0.3540\n",
            "Epoch 15/20\n",
            "16/16 [==============================] - 1s 46ms/step - loss: 3.1993 - accuracy: 0.3514 - val_loss: 3.1916 - val_accuracy: 0.3540\n",
            "Epoch 16/20\n",
            "16/16 [==============================] - 1s 47ms/step - loss: 3.1845 - accuracy: 0.3514 - val_loss: 3.1768 - val_accuracy: 0.3540\n",
            "Epoch 17/20\n",
            "16/16 [==============================] - 1s 48ms/step - loss: 3.1699 - accuracy: 0.3514 - val_loss: 3.1622 - val_accuracy: 0.3540\n",
            "Epoch 18/20\n",
            "16/16 [==============================] - 1s 47ms/step - loss: 3.1555 - accuracy: 0.3514 - val_loss: 3.1477 - val_accuracy: 0.3540\n",
            "Epoch 19/20\n",
            "16/16 [==============================] - 1s 47ms/step - loss: 3.1411 - accuracy: 0.3514 - val_loss: 3.1332 - val_accuracy: 0.3540\n",
            "Epoch 20/20\n",
            "16/16 [==============================] - 1s 47ms/step - loss: 3.1268 - accuracy: 0.3514 - val_loss: 3.1190 - val_accuracy: 0.3540\n"
          ],
          "name": "stdout"
        }
      ]
    },
    {
      "cell_type": "code",
      "metadata": {
        "colab": {
          "base_uri": "https://localhost:8080/",
          "height": 590
        },
        "id": "fbpdzt3r_gff",
        "outputId": "4d875291-41c4-4436-defe-592ed984151a"
      },
      "source": [
        "histroy_dict= history.history\n",
        "loss_values=histroy_dict['loss']\n",
        "val_loss_values=histroy_dict['val_loss']\n",
        "epochs= range(1,len(loss_values) +1)\n",
        "plt.plot(epochs,loss_values,'bo', label='training loss')\n",
        "plt.plot(epochs,val_loss_values,'b', label='Validation loss')\n",
        "plt.title('Training and validation loss')\n",
        "plt.xlabel('Epochs')\n",
        "plt.ylabel('loss')\n",
        "plt.legend()\n",
        "plt.show()\n",
        "plt.clf()\n",
        "accuracy_value=histroy_dict['accuracy']\n",
        "value_accuracy_values=histroy_dict['val_accuracy']\n",
        "plt.plot(epochs,accuracy_value,'bo', label='training accuracy')\n",
        "plt.plot(epochs,value_accuracy_values,'b', label='Validation accuracy')\n",
        "plt.title('Training and validation accuracy')\n",
        "plt.xlabel('Epochs')\n",
        "plt.ylabel('loss')\n",
        "plt.legend()\n",
        "plt.show()\n",
        "plt.clf()"
      ],
      "execution_count": 58,
      "outputs": [
        {
          "output_type": "display_data",
          "data": {
            "image/png": "[encoded data removed]",
            "text/plain": [
              "<Figure size 432x288 with 1 Axes>"
            ]
          },
          "metadata": {
            "needs_background": "light"
          }
        },
        {
          "output_type": "display_data",
          "data": {
            "image/png": "[encoded data removed]",
            "text/plain": [
              "<Figure size 432x288 with 1 Axes>"
            ]
          },
          "metadata": {
            "needs_background": "light"
          }
        },
        {
          "output_type": "display_data",
          "data": {
            "text/plain": [
              "<Figure size 432x288 with 0 Axes>"
            ]
          },
          "metadata": {}
        }
      ]
    },
    {
      "cell_type": "code",
      "metadata": {
        "id": "gi5mzNVtC9GI"
      },
      "source": [
        "prediction=model.predict(X_test)"
      ],
      "execution_count": 59,
      "outputs": []
    },
    {
      "cell_type": "code",
      "metadata": {
        "colab": {
          "base_uri": "https://localhost:8080/"
        },
        "id": "J9JHjhevDfXm",
        "outputId": "1a065ddb-f26d-4904-89da-d646d66c3ae2"
      },
      "source": [
        "prediction.shape"
      ],
      "execution_count": 61,
      "outputs": [
        {
          "output_type": "execute_result",
          "data": {
            "text/plain": [
              "(2246, 46)"
            ]
          },
          "metadata": {},
          "execution_count": 61
        }
      ]
    },
    {
      "cell_type": "code",
      "metadata": {
        "colab": {
          "base_uri": "https://localhost:8080/"
        },
        "id": "PHZpMDVeDfZ-",
        "outputId": "774becac-a8cd-4237-9582-5a31a182626a"
      },
      "source": [
        "prediction[0].sum()"
      ],
      "execution_count": 64,
      "outputs": [
        {
          "output_type": "execute_result",
          "data": {
            "text/plain": [
              "1.0"
            ]
          },
          "metadata": {},
          "execution_count": 64
        }
      ]
    },
    {
      "cell_type": "code",
      "metadata": {
        "id": "zS-00lkRE2rI"
      },
      "source": [
        "prediction[1].sum()"
      ],
      "execution_count": null,
      "outputs": []
    },
    {
      "cell_type": "markdown",
      "metadata": {
        "id": "T-f37YKu_fRo"
      },
      "source": [
        ""
      ]
    }
  ]
}